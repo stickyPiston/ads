{
 "cells": [
  {
   "cell_type": "code",
   "execution_count": 5,
   "metadata": {},
   "outputs": [],
   "source": [
    "import gurobipy as gp\n",
    "from gurobipy import GRB\n",
    "import itertools as it\n",
    "\n",
    "# Disable stdout output from gurobipy\n",
    "env = gp.Env(empty=True)\n",
    "env.setParam(\"OutputFlag\", 0)\n",
    "env.start()\n",
    "\n",
    "None"
   ]
  },
  {
   "cell_type": "code",
   "execution_count": 6,
   "metadata": {},
   "outputs": [],
   "source": [
    "# Input parsing\n",
    "\n",
    "Obligation = tuple[int, int, int]\n",
    "Student = list[Obligation]\n",
    "\n",
    "file = open(\"inputs/input3.txt\")\n",
    "\n",
    "t = int(file.readline())\n",
    "m = int(file.readline())\n",
    "b = [int(bh) for bh in file.readline().split(\",\")]\n",
    "n = int(file.readline())\n",
    "\n",
    "students: list[Student] = []\n",
    "for i in range(n):\n",
    "    o, *line = [int(x) for x in file.readline().split(\",\")]\n",
    "    obligations = []\n",
    "    for x in range(o):\n",
    "        lb, ub, duration = line[x*3:(x+1)*3]\n",
    "        obligations.append((lb - 1, ub - 1, duration))\n",
    "    students.append(obligations)"
   ]
  },
  {
   "cell_type": "markdown",
   "metadata": {},
   "source": [
    "## Obligation planning\n",
    "\n",
    "We plan the students' obligations optimally around a given configuration of borrels such that the obligations needed to be done during borrels is minimised. For this we have constructed the following ILP:\n",
    "\n",
    "**Decision variables**:\n",
    "$s_{ijt}\\in\\{0,1\\}$: student $i$ does work for obligation $j$ at time $t$\n",
    "\n",
    "**Objective**: We minimise the total time spent working on obligations by all students during the planned borrels. The objective function does not represent the number of points the borrel configuration has in the way as it is calculated in the algorithm's final output. This is done as a separate post-processing step after the borrel configuration with the highest objective has been found.\n",
    "$$\n",
    "z=\\min\\sum_{h=1}^m\\sum_{i=1}^n\\sum_{j=1}^{\\ell_i}\\sum_{t=c_h}^{c_h+b_h}s_{ijt}\n",
    "$$\n",
    "\n",
    "**Constraints**:\n",
    "\n",
    "1. The total time spent on an obligation should equal the required time\n",
    "$$\n",
    "\\sum_{k=r_j}^{d_j}s_{ijk}=p_{ij}\\quad\\forall i\\leq n, j\\leq\\ell_i\n",
    "$$\n",
    "2. A student cannot work on more than one obligation at the same time\n",
    "$$\n",
    "\\sum_{j=1}^{\\ell_i}s_{ijk}\\leq1\\quad\\forall i\\leq n, k\\leq t\n",
    "$$"
   ]
  },
  {
   "cell_type": "code",
   "execution_count": 7,
   "metadata": {},
   "outputs": [],
   "source": [
    "class BorrelILP:\n",
    "    def __init__(self, starts):\n",
    "        self.borrels = starts\n",
    "        self.model = gp.Model(env = env)\n",
    "\n",
    "        s_tuples = [\n",
    "            (i, j, k)\n",
    "            for i, student in enumerate(students)\n",
    "            for j, _ in enumerate(student)\n",
    "            for k in range(t)\n",
    "        ] \n",
    "        self.s = self.model.addVars(\n",
    "            s_tuples,\n",
    "            name=[f\"s_{i},{j},{k}\" for i, j, k in s_tuples],\n",
    "            vtype=GRB.BINARY\n",
    "        )\n",
    "\n",
    "        for s_index, student in enumerate(students):\n",
    "            for o_index, (start, end, duration) in enumerate(student):\n",
    "                self.model.addConstr(gp.quicksum(self.s[s_index, o_index, k] for k in range(start, end + 1)) == duration)\n",
    "\n",
    "            for time in range(t):\n",
    "                self.model.addConstr(self.s.sum(s_index, \"*\", time) <= 1)\n",
    "\n",
    "        self.model.setObjective(\n",
    "            gp.quicksum(\n",
    "                self.s[i, j, t]\n",
    "                for h in range(m)\n",
    "                for i in range(n)\n",
    "                for j in range(len(students[i]))\n",
    "                for t in range(starts[h], starts[h] + b[h])\n",
    "            ),\n",
    "            GRB.MINIMIZE\n",
    "        )\n",
    "    \n",
    "    def optimise(self):\n",
    "        self.model.optimize()\n",
    "        return self.s"
   ]
  },
  {
   "cell_type": "markdown",
   "metadata": {},
   "source": [
    "## Finding the best borrel configuration\n",
    "\n",
    "To find the optimal borrel configuration, we simply use a brute-force strategy. We create a list of all possible borrel starting times and for each one construct an ILP and solve it. As described earlier, we manually need to calculate the points according to the problem specification. If we found a configuration with a higher score we save the model and the score, otherwise we discard the model. After having tried all configuration we print the required information to the console.  "
   ]
  },
  {
   "cell_type": "code",
   "execution_count": 8,
   "metadata": {},
   "outputs": [
    {
     "name": "stdout",
     "output_type": "stream",
     "text": [
      "1, 11, 4\n",
      "2, 3\n",
      "7, 8, 9, 10\n",
      "8, 9, 10\n",
      "2, 3, 4\n",
      "5, 6, 7\n",
      "8, 9\n",
      "2, 3\n",
      "7, 8, 9\n",
      "10\n",
      "11\n"
     ]
    }
   ],
   "source": [
    "highest_model = None\n",
    "highest_points = 0\n",
    "\n",
    "for x in it.product(*[range(t - length + 1) for length in b]):\n",
    "    model = BorrelILP(list(x))\n",
    "    model.optimise()\n",
    "\n",
    "    borrel_attendance = []\n",
    "    points = 0\n",
    "    for h, start in enumerate(list(x)):\n",
    "        for i, student in enumerate(students):\n",
    "            all_empty = all(\n",
    "                model.s[i, j, k].x == 0\n",
    "                and (i, k) not in borrel_attendance\n",
    "                for k in range(start, start + b[h])\n",
    "                for j in range(len(student))\n",
    "            )\n",
    "            if all_empty:\n",
    "                for k in range(start, start + b[h]):\n",
    "                    borrel_attendance.append((i, k))\n",
    "                points += int(all_empty)\n",
    "\n",
    "    if points > highest_points:\n",
    "        highest_points = points\n",
    "        highest_model = model\n",
    "\n",
    "# Printing output\n",
    "\n",
    "print(\", \".join(str(borrel + 1) for borrel in highest_model.borrels))\n",
    "for i, student in enumerate(students):\n",
    "    for j, obligation in enumerate(student):\n",
    "        times = [str(k + 1) for k in range(t) if highest_model.s[i, j, k].x == 1]\n",
    "        print(\", \".join(times))\n",
    "print(highest_points)"
   ]
  }
 ],
 "metadata": {
  "kernelspec": {
   "display_name": "Python 3",
   "language": "python",
   "name": "python3"
  },
  "language_info": {
   "codemirror_mode": {
    "name": "ipython",
    "version": 3
   },
   "file_extension": ".py",
   "mimetype": "text/x-python",
   "name": "python",
   "nbconvert_exporter": "python",
   "pygments_lexer": "ipython3",
   "version": "3.12.7"
  }
 },
 "nbformat": 4,
 "nbformat_minor": 2
}
